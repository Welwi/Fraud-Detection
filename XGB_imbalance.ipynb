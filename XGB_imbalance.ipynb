{
 "cells": [
  {
   "cell_type": "markdown",
   "metadata": {},
   "source": [
    "# IEEE-CIS FRAUD DETECTION\n",
    "\n",
    "IEEE is the world's largest technical professional organization dedicated to advancing technology for the benefit of humanity. They work accross work accross several areas in AI and machine learning, including deep neural networks, fuzzy systems, evolutionary computation and swarm intelligence.\n",
    "\n",
    "IEEE has partnered with Vesta Corporation, which is the leading payment service company to see the best solutions for fraud prevention in the industry. Vesta has invited the public to participate.\n",
    "\n",
    "The goal of this project is to improve the efficacy of fraudulent transaction alerts for millions of people aroung the world, help businesses reduce their fraud losses and increase their revenues, and last but not least, improve the customer experience by reducing the insult rate (false positives)."
   ]
  },
  {
   "cell_type": "code",
   "execution_count": 2,
   "metadata": {},
   "outputs": [],
   "source": [
    "#importing the libraries\n",
    "import pandas as pd\n",
    "import numpy as np\n",
    "import matplotlib.pyplot as plt\n",
    "%matplotlib inline\n",
    "\n",
    "from category_encoders import TargetEncoder, WOEEncoder\n",
    "from sklearn.model_selection import train_test_split, cross_val_score, GridSearchCV\n",
    "from sklearn.pipeline import Pipeline, make_pipeline\n",
    "\n",
    "from xgboost import XGBClassifier\n",
    "\n",
    "from sklearn.metrics import classification_report, confusion_matrix, accuracy_score\n",
    "\n",
    "from mlxtend.evaluate import feature_importance_permutation\n",
    "from mlxtend.feature_selection import ColumnSelector\n",
    "from sklearn.preprocessing import KBinsDiscretizer, FunctionTransformer\n",
    "from sklearn.compose import ColumnTransformer\n",
    "from sklearn.impute import SimpleImputer\n",
    "\n",
    "from sklearn.ensemble import RandomForestClassifier\n",
    "from imxgboost.imbalance_xgb import imbalance_xgboost as imb_xgb\n",
    "\n",
    "from sklearn.feature_selection import SelectFromModel\n",
    "\n",
    "import gc\n",
    "\n",
    "import warnings\n",
    "warnings.filterwarnings('ignore')"
   ]
  },
  {
   "cell_type": "code",
   "execution_count": 3,
   "metadata": {},
   "outputs": [],
   "source": [
    "df = pd.read_csv('train_transaction.csv')"
   ]
  },
  {
   "cell_type": "code",
   "execution_count": 4,
   "metadata": {},
   "outputs": [],
   "source": [
    "# these are the columns that I got from SelectFromModel using the random forest classifier\n",
    "to_keep = ['TransactionID','isFraud', 'TransactionDT', 'TransactionAmt', 'ProductCD',\n",
    " 'card1', 'card2', 'card4', 'card5', 'card6', 'addr2', 'dist2', 'R_emaildomain',\n",
    " 'C1', 'C5', 'C6', 'C7', 'C9', 'C10', 'C11', 'C12', 'C13', 'C14', 'D1', 'D2', 'D3',\n",
    " 'D4', 'D6', 'D7', 'D8', 'D11', 'D14', 'V6', 'V11', 'V12', 'V16', 'V22', 'V23', 'V24',\n",
    " 'V32', 'V36', 'V38', 'V43', 'V44', 'V51', 'V52', 'V53', 'V59', 'V61', 'V65', 'V68',\n",
    " 'V72', 'V74', 'V76', 'V79', 'V81', 'V85', 'V86', 'V95', 'V96', 'V123', 'V126',\n",
    " 'V128', 'V129', 'V131', 'V133', 'V139', 'V152', 'V156', 'V168', 'V169', 'V185',\n",
    " 'V198', 'V199', 'V200', 'V209', 'V211', 'V228', 'V238', 'V242', 'V245', 'V247',\n",
    " 'V248', 'V252', 'V254', 'V256', 'V257', 'V264', 'V279', 'V281', 'V282', 'V288',\n",
    " 'V292', 'V294', 'V301', 'V306', 'V307', 'V311', 'V312', 'V319']"
   ]
  },
  {
   "cell_type": "code",
   "execution_count": 5,
   "metadata": {},
   "outputs": [],
   "source": [
    "# dropping all the columns that were not selected using the SelectFromModel\n",
    "for c in df.columns.tolist():\n",
    "    if c not in to_keep:\n",
    "        df.drop(columns=c, inplace=True)"
   ]
  },
  {
   "cell_type": "code",
   "execution_count": 6,
   "metadata": {},
   "outputs": [],
   "source": [
    "# I am replacing the missing values with the mode\n",
    "for c in df.columns.tolist():\n",
    "    df[c].fillna(df[c].mode()[0], inplace=True)"
   ]
  },
  {
   "cell_type": "code",
   "execution_count": 7,
   "metadata": {},
   "outputs": [],
   "source": [
    "used_cols = [c for c in df.columns.tolist() if c not in 'isFraud']\n",
    "X = df[used_cols]\n",
    "y = df['isFraud']"
   ]
  },
  {
   "cell_type": "code",
   "execution_count": 8,
   "metadata": {},
   "outputs": [],
   "source": [
    "def stringify(data):\n",
    "    df = pd.DataFrame(data)\n",
    "    for c in df.columns.tolist():\n",
    "        df[c] = df[c].astype(str)\n",
    "    return df\n",
    "\n",
    "binner = KBinsDiscretizer(n_bins=10, encode='ordinal')\n",
    "objectify = FunctionTransformer(func=stringify, validate=False, check_inverse=False)\n",
    "encoder = TargetEncoder(drop_invariant=True)"
   ]
  },
  {
   "cell_type": "code",
   "execution_count": 9,
   "metadata": {},
   "outputs": [],
   "source": [
    "# In the following cells I am going to define the transformation strategy for categorical and numerical features\n",
    "categorical = X.select_dtypes('object').columns.tolist()\n",
    "non_numeric_transformer = Pipeline(steps=[#('imputer', imputer),#\n",
    "                                          ('objectify', objectify),\n",
    "                                            ('encoder', encoder)])"
   ]
  },
  {
   "cell_type": "code",
   "execution_count": 10,
   "metadata": {},
   "outputs": [],
   "source": [
    "numeric = [c for c in used_cols if c not in categorical]"
   ]
  },
  {
   "cell_type": "code",
   "execution_count": 11,
   "metadata": {},
   "outputs": [],
   "source": [
    "numeric_transformer = Pipeline(steps=[\n",
    "                                        ('binner', binner),\n",
    "                                       ('objectify', objectify),\n",
    "                                       ('encoder', encoder)])"
   ]
  },
  {
   "cell_type": "code",
   "execution_count": 12,
   "metadata": {},
   "outputs": [],
   "source": [
    "clf = imb_xgb(special_objective='weighted', imbalance_alpha=2)"
   ]
  },
  {
   "cell_type": "code",
   "execution_count": 14,
   "metadata": {},
   "outputs": [],
   "source": [
    "# This preprocessor, applies the transformation to the numeric and non_numeric columns.\n",
    "preprocessor = ColumnTransformer(transformers=[('non_numeric', non_numeric_transformer, categorical),\n",
    "                                              ('numeric', numeric_transformer, numeric)])"
   ]
  },
  {
   "cell_type": "code",
   "execution_count": 15,
   "metadata": {},
   "outputs": [],
   "source": [
    "scorecard = make_pipeline(preprocessor, clf)"
   ]
  },
  {
   "cell_type": "code",
   "execution_count": 18,
   "metadata": {},
   "outputs": [
    {
     "data": {
      "text/plain": [
       "Pipeline(memory=None,\n",
       "         steps=[('columntransformer',\n",
       "                 ColumnTransformer(n_jobs=None, remainder='drop',\n",
       "                                   sparse_threshold=0.3,\n",
       "                                   transformer_weights=None,\n",
       "                                   transformers=[('non_numeric',\n",
       "                                                  Pipeline(memory=None,\n",
       "                                                           steps=[('objectify',\n",
       "                                                                   FunctionTransformer(accept_sparse=False,\n",
       "                                                                                       check_inverse=False,\n",
       "                                                                                       func=<function stringify at 0x00000154429C8048>,\n",
       "                                                                                       inv_kw_args=None,\n",
       "                                                                                       inverse_func=Non...\n",
       "                                                   'C7', 'C9', 'C10', 'C11',\n",
       "                                                   'C12', 'C13', 'C14', 'D1',\n",
       "                                                   'D2', 'D3', 'D4', 'D6', 'D7',\n",
       "                                                   'D8', 'D11', 'D14', 'V6',\n",
       "                                                   'V11', 'V12', ...])],\n",
       "                                   verbose=False)),\n",
       "                ('imbalance_xgboost',\n",
       "                 imbalance_xgboost(booster='gbtree', eta=0.3,\n",
       "                                   eval_metric='logloss', focal_gamma=None,\n",
       "                                   imbalance_alpha=2, max_depth=10,\n",
       "                                   num_round=10,\n",
       "                                   objective_func='binary:logitraw',\n",
       "                                   silent_mode=True,\n",
       "                                   special_objective='weighted'))],\n",
       "         verbose=False)"
      ]
     },
     "execution_count": 18,
     "metadata": {},
     "output_type": "execute_result"
    }
   ],
   "source": [
    "scorecard.fit(X,y)"
   ]
  },
  {
   "cell_type": "code",
   "execution_count": 20,
   "metadata": {},
   "outputs": [],
   "source": [
    "df_test = pd.read_csv('test_transaction.csv')"
   ]
  },
  {
   "cell_type": "code",
   "execution_count": 21,
   "metadata": {},
   "outputs": [],
   "source": [
    "for c in df_test.columns.tolist():\n",
    "    df_test[c].fillna(df_test[c].mode()[0], inplace=True)\n",
    "y_pred_test = scorecard.predict(df_test)"
   ]
  },
  {
   "cell_type": "code",
   "execution_count": 22,
   "metadata": {},
   "outputs": [],
   "source": [
    "df_sub = pd.DataFrame()\n",
    "df_sub['TransactionID'] = df_test['TransactionID']\n",
    "df_sub['isFraud'] = pd.Series(y_pred_test)\n",
    "df_sub.to_csv('kaggle_test.csv', index=False)"
   ]
  },
  {
   "cell_type": "code",
   "execution_count": null,
   "metadata": {},
   "outputs": [],
   "source": [
    "# Using these features gives me the same results as just the first few features that I had initially selected\n",
    "# Using the imbalanced XGB bumped the score from 71 to 90% on the leaderboard"
   ]
  },
  {
   "cell_type": "code",
   "execution_count": null,
   "metadata": {},
   "outputs": [],
   "source": []
  },
  {
   "cell_type": "code",
   "execution_count": null,
   "metadata": {},
   "outputs": [],
   "source": []
  },
  {
   "cell_type": "code",
   "execution_count": null,
   "metadata": {},
   "outputs": [],
   "source": []
  },
  {
   "cell_type": "code",
   "execution_count": null,
   "metadata": {},
   "outputs": [],
   "source": []
  },
  {
   "cell_type": "code",
   "execution_count": null,
   "metadata": {},
   "outputs": [],
   "source": []
  },
  {
   "cell_type": "code",
   "execution_count": null,
   "metadata": {},
   "outputs": [],
   "source": []
  },
  {
   "cell_type": "code",
   "execution_count": null,
   "metadata": {},
   "outputs": [],
   "source": []
  }
 ],
 "metadata": {
  "kernelspec": {
   "display_name": "Python 3",
   "language": "python",
   "name": "python3"
  },
  "language_info": {
   "codemirror_mode": {
    "name": "ipython",
    "version": 3
   },
   "file_extension": ".py",
   "mimetype": "text/x-python",
   "name": "python",
   "nbconvert_exporter": "python",
   "pygments_lexer": "ipython3",
   "version": "3.6.9"
  }
 },
 "nbformat": 4,
 "nbformat_minor": 4
}
