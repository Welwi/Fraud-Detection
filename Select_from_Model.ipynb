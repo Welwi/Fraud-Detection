{
 "cells": [
  {
   "cell_type": "code",
   "execution_count": 45,
   "metadata": {},
   "outputs": [],
   "source": [
    "#importing the libraries\n",
    "import pandas as pd\n",
    "import numpy as np\n",
    "import matplotlib.pyplot as plt\n",
    "%matplotlib inline\n",
    "\n",
    "from category_encoders import TargetEncoder, WOEEncoder\n",
    "from sklearn.model_selection import train_test_split, cross_val_score\n",
    "from sklearn.pipeline import Pipeline, make_pipeline\n",
    "\n",
    "from xgboost import XGBClassifier\n",
    "\n",
    "from sklearn.metrics import classification_report, confusion_matrix, accuracy_score\n",
    "\n",
    "from mlxtend.evaluate import feature_importance_permutation\n",
    "from mlxtend.feature_selection import ColumnSelector\n",
    "from sklearn.preprocessing import KBinsDiscretizer, FunctionTransformer\n",
    "from sklearn.compose import ColumnTransformer\n",
    "from sklearn.impute import SimpleImputer\n",
    "\n",
    "from sklearn.ensemble import RandomForestClassifier\n",
    "\n",
    "from sklearn.feature_selection import SelectFromModel\n",
    "\n",
    "import gc\n",
    "\n",
    "import warnings\n",
    "warnings.filterwarnings('ignore')"
   ]
  },
  {
   "cell_type": "code",
   "execution_count": 18,
   "metadata": {},
   "outputs": [],
   "source": [
    "df = pd.read_csv('train_transaction.csv')"
   ]
  },
  {
   "cell_type": "code",
   "execution_count": 19,
   "metadata": {},
   "outputs": [],
   "source": [
    "# I am replacing the missing values with the mode\n",
    "for c in df.columns.tolist():\n",
    "    df[c].fillna(df[c].mode()[0], inplace=True)"
   ]
  },
  {
   "cell_type": "code",
   "execution_count": 20,
   "metadata": {},
   "outputs": [],
   "source": [
    "# Creating a list of all the column names and defining the X and y variables\n",
    "used_cols = [c for c in df.columns.tolist() if c not in 'isFraud']\n",
    "X = df[used_cols]\n",
    "y = df['isFraud']"
   ]
  },
  {
   "cell_type": "code",
   "execution_count": 21,
   "metadata": {},
   "outputs": [],
   "source": [
    "def stringify(data):\n",
    "    df = pd.DataFrame(data)\n",
    "    for c in df.columns.tolist():\n",
    "        df[c] = df[c].astype(str)\n",
    "    return df\n",
    "\n",
    "binner = KBinsDiscretizer(n_bins=10, encode='ordinal')\n",
    "objectify = FunctionTransformer(func=stringify, validate=False, check_inverse=False)\n",
    "encoder = TargetEncoder(drop_invariant=True)"
   ]
  },
  {
   "cell_type": "code",
   "execution_count": 22,
   "metadata": {},
   "outputs": [],
   "source": [
    "# In the following cells I am going to define the transformation strategy for categorical and numerical features\n",
    "categorical = X.select_dtypes('object').columns.tolist()\n",
    "non_numeric_transformer = Pipeline(steps=[#('imputer', imputer),#\n",
    "                                          ('objectify', objectify),\n",
    "                                            ('encoder', encoder)])\n"
   ]
  },
  {
   "cell_type": "code",
   "execution_count": 23,
   "metadata": {},
   "outputs": [],
   "source": [
    "numeric = [c for c in used_cols if c not in categorical]"
   ]
  },
  {
   "cell_type": "code",
   "execution_count": 24,
   "metadata": {},
   "outputs": [],
   "source": [
    "numeric_transformer = Pipeline(steps=[\n",
    "                                        ('binner', binner),\n",
    "                                       ('objectify', objectify),\n",
    "                                       ('encoder', encoder)])"
   ]
  },
  {
   "cell_type": "code",
   "execution_count": 25,
   "metadata": {},
   "outputs": [],
   "source": [
    "clf = XGBClassifier(n_jobs=-1, max_depth=15)"
   ]
  },
  {
   "cell_type": "code",
   "execution_count": 27,
   "metadata": {},
   "outputs": [],
   "source": [
    "# This preprocessor, applies the transformation to the numeric and non_numeric columns.\n",
    "preprocessor = ColumnTransformer(transformers=[('non_numeric', non_numeric_transformer, categorical),\n",
    "                                              ('numeric', numeric_transformer, numeric)])"
   ]
  },
  {
   "cell_type": "code",
   "execution_count": 34,
   "metadata": {},
   "outputs": [],
   "source": [
    "scorecard = make_pipeline(preprocessor, clf)"
   ]
  },
  {
   "cell_type": "code",
   "execution_count": 36,
   "metadata": {},
   "outputs": [
    {
     "data": {
      "text/plain": [
       "Pipeline(memory=None,\n",
       "         steps=[('columntransformer',\n",
       "                 ColumnTransformer(n_jobs=None, remainder='drop',\n",
       "                                   sparse_threshold=0.3,\n",
       "                                   transformer_weights=None,\n",
       "                                   transformers=[('non_numeric',\n",
       "                                                  Pipeline(memory=None,\n",
       "                                                           steps=[('objectify',\n",
       "                                                                   FunctionTransformer(accept_sparse=False,\n",
       "                                                                                       check_inverse=False,\n",
       "                                                                                       func=<function stringify at 0x000001D208059AE8>,\n",
       "                                                                                       inv_kw_args=None,\n",
       "                                                                                       inverse_func=Non...\n",
       "                 XGBClassifier(base_score=0.5, booster='gbtree',\n",
       "                               colsample_bylevel=1, colsample_bynode=1,\n",
       "                               colsample_bytree=1, gamma=0, learning_rate=0.1,\n",
       "                               max_delta_step=0, max_depth=15,\n",
       "                               min_child_weight=1, missing=None,\n",
       "                               n_estimators=100, n_jobs=-1, nthread=None,\n",
       "                               objective='binary:logistic', random_state=0,\n",
       "                               reg_alpha=0, reg_lambda=1, scale_pos_weight=1,\n",
       "                               seed=None, silent=None, subsample=1,\n",
       "                               verbosity=1))],\n",
       "         verbose=False)"
      ]
     },
     "execution_count": 36,
     "metadata": {},
     "output_type": "execute_result"
    }
   ],
   "source": [
    "scorecard.fit(X,y)"
   ]
  },
  {
   "cell_type": "code",
   "execution_count": 80,
   "metadata": {},
   "outputs": [
    {
     "name": "stdout",
     "output_type": "stream",
     "text": [
      "0.8723958333333334 +/- 0.14855167392657978\n"
     ]
    }
   ],
   "source": [
    "scores = cross_val_score(scorecard, X, y, cv=3, scoring='roc_auc', n_jobs=-1)\n",
    "print(scores.mean(), \"+/-\", scores.std())"
   ]
  },
  {
   "cell_type": "code",
   "execution_count": 102,
   "metadata": {},
   "outputs": [],
   "source": [
    "# These last few steps I am importing the test dataset\n",
    "# using the trained model to make the predictions\n",
    "# Preparing a csv file to import it into Kaggle\n",
    "\n",
    "df_test = pd.read_csv('test_transaction.csv')\n",
    "\n"
   ]
  },
  {
   "cell_type": "code",
   "execution_count": 108,
   "metadata": {},
   "outputs": [],
   "source": [
    "for c in df_test.columns.tolist():\n",
    "    df_test[c].fillna(df_test[c].mode()[0], inplace=True)\n",
    "y_pred_test = scorecard.predict(df_test)"
   ]
  },
  {
   "cell_type": "code",
   "execution_count": 109,
   "metadata": {},
   "outputs": [],
   "source": [
    "df_sub = pd.DataFrame()\n",
    "df_sub['TransactionID'] = df_test['TransactionID']\n",
    "df_sub['isFraud'] = pd.Series(y_pred_test)\n",
    "df_sub.to_csv('kaggle_test.csv', index=False)"
   ]
  },
  {
   "cell_type": "code",
   "execution_count": 61,
   "metadata": {},
   "outputs": [],
   "source": [
    "## Feature selection\n",
    "\n",
    "df = df.sample(2000)"
   ]
  },
  {
   "cell_type": "code",
   "execution_count": 62,
   "metadata": {},
   "outputs": [],
   "source": [
    "for c in df.columns.tolist():\n",
    "    df[c].fillna(df[c].mode()[0], inplace=True)"
   ]
  },
  {
   "cell_type": "code",
   "execution_count": 64,
   "metadata": {},
   "outputs": [],
   "source": [
    "# Creating a list of all the column names and defining the X and y variables\n",
    "used_cols = [c for c in df.columns.tolist() if c not in 'isFraud']\n",
    "X = df[used_cols]\n",
    "y = df['isFraud']"
   ]
  },
  {
   "cell_type": "code",
   "execution_count": 65,
   "metadata": {},
   "outputs": [],
   "source": [
    "encoder = TargetEncoder()\n",
    "X = encoder.fit_transform(X,y)"
   ]
  },
  {
   "cell_type": "code",
   "execution_count": 66,
   "metadata": {},
   "outputs": [],
   "source": [
    "rf = RandomForestClassifier()"
   ]
  },
  {
   "cell_type": "code",
   "execution_count": 67,
   "metadata": {},
   "outputs": [
    {
     "data": {
      "text/plain": [
       "array([[3.37888300e+06, 9.83601300e+06, 1.00000000e+01, ...,\n",
       "        6.00000000e+01, 0.00000000e+00, 1.20000000e+02],\n",
       "       [3.01917700e+06, 7.86674000e+05, 7.39500000e+01, ...,\n",
       "        0.00000000e+00, 1.55949997e+02, 0.00000000e+00],\n",
       "       [3.35258100e+06, 9.07172800e+06, 5.79500000e+01, ...,\n",
       "        0.00000000e+00, 0.00000000e+00, 5.79500008e+01],\n",
       "       ...,\n",
       "       [3.38804100e+06, 1.01082920e+07, 3.67960000e+01, ...,\n",
       "        0.00000000e+00, 0.00000000e+00, 0.00000000e+00],\n",
       "       [3.56425800e+06, 1.53583450e+07, 4.90000000e+01, ...,\n",
       "        2.71000000e+02, 0.00000000e+00, 0.00000000e+00],\n",
       "       [3.43506200e+06, 1.14061190e+07, 2.59500000e+01, ...,\n",
       "        0.00000000e+00, 0.00000000e+00, 0.00000000e+00]])"
      ]
     },
     "execution_count": 67,
     "metadata": {},
     "output_type": "execute_result"
    }
   ],
   "source": [
    "feat_sel = SelectFromModel(rf, threshold='mean')\n",
    "feat_sel.fit_transform(X, y)"
   ]
  },
  {
   "cell_type": "code",
   "execution_count": 73,
   "metadata": {},
   "outputs": [
    {
     "name": "stdout",
     "output_type": "stream",
     "text": [
      "['TransactionID' 'isFraud' 'TransactionDT' 'TransactionAmt' 'ProductCD'\n",
      " 'card1' 'card2' 'card4' 'card5' 'card6' 'addr2' 'dist2' 'R_emaildomain'\n",
      " 'C1' 'C5' 'C6' 'C7' 'C9' 'C10' 'C11' 'C12' 'C13' 'C14' 'D1' 'D2' 'D3'\n",
      " 'D4' 'D6' 'D7' 'D8' 'D11' 'D14' 'V6' 'V11' 'V12' 'V16' 'V22' 'V23' 'V24'\n",
      " 'V32' 'V36' 'V38' 'V43' 'V44' 'V51' 'V52' 'V53' 'V59' 'V61' 'V65' 'V68'\n",
      " 'V72' 'V74' 'V76' 'V79' 'V81' 'V85' 'V86' 'V95' 'V96' 'V123' 'V126'\n",
      " 'V128' 'V129' 'V131' 'V133' 'V139' 'V152' 'V156' 'V168' 'V169' 'V185'\n",
      " 'V198' 'V199' 'V200' 'V209' 'V211' 'V228' 'V238' 'V242' 'V245' 'V247'\n",
      " 'V248' 'V252' 'V254' 'V256' 'V257' 'V264' 'V279' 'V281' 'V282' 'V288'\n",
      " 'V292' 'V294' 'V301' 'V306' 'V307' 'V311' 'V312' 'V319']\n"
     ]
    }
   ],
   "source": [
    "print(np.array(df.columns.tolist()[:-1])[feat_sel.get_support()])"
   ]
  },
  {
   "cell_type": "code",
   "execution_count": 74,
   "metadata": {},
   "outputs": [
    {
     "data": {
      "text/plain": [
       "100"
      ]
     },
     "execution_count": 74,
     "metadata": {},
     "output_type": "execute_result"
    }
   ],
   "source": [
    "len(np.array(df.columns.tolist()[:-1])[feat_sel.get_support()])"
   ]
  },
  {
   "cell_type": "code",
   "execution_count": null,
   "metadata": {},
   "outputs": [],
   "source": []
  }
 ],
 "metadata": {
  "kernelspec": {
   "display_name": "Python 3",
   "language": "python",
   "name": "python3"
  },
  "language_info": {
   "codemirror_mode": {
    "name": "ipython",
    "version": 3
   },
   "file_extension": ".py",
   "mimetype": "text/x-python",
   "name": "python",
   "nbconvert_exporter": "python",
   "pygments_lexer": "ipython3",
   "version": "3.6.9"
  }
 },
 "nbformat": 4,
 "nbformat_minor": 4
}
